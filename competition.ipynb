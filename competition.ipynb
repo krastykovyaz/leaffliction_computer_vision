{
 "cells": [
  {
   "cell_type": "code",
   "execution_count": 11,
   "id": "e2389ea7-0493-4711-b7e1-25d28af8699d",
   "metadata": {},
   "outputs": [
    {
     "name": "stdout",
     "output_type": "stream",
     "text": [
      "images/Apple/apple_scab\n",
      "images/Apple/apple_healthy\n",
      "images/Apple/apple_rust\n",
      "images/Apple/apple_black_rot\n"
     ]
    }
   ],
   "source": [
    "from glob import glob\n",
    "df_train = None\n",
    "for filenames in glob('images/Apple/*'):\n",
    "    print(filenames)"
   ]
  },
  {
   "cell_type": "code",
   "execution_count": 12,
   "id": "1dc701bf-1b07-4e8a-b35b-0b32352a337c",
   "metadata": {},
   "outputs": [],
   "source": [
    "map_topics = {'apple_scab':1,\n",
    "              'apple_healthy':2,\n",
    "              'apple_rust':3,\n",
    "              'apple_black_rot':4}"
   ]
  },
  {
   "cell_type": "code",
   "execution_count": null,
   "id": "59e74e0b-5b9f-4c90-89f2-9756ba930f68",
   "metadata": {},
   "outputs": [],
   "source": []
  },
  {
   "cell_type": "code",
   "execution_count": null,
   "id": "69e3ccb9-e2da-42b4-a5e1-307fc1c70417",
   "metadata": {},
   "outputs": [],
   "source": []
  },
  {
   "cell_type": "code",
   "execution_count": null,
   "id": "746a8d5e-affe-4544-96ab-c2a45e23fdfd",
   "metadata": {},
   "outputs": [],
   "source": []
  },
  {
   "cell_type": "code",
   "execution_count": null,
   "id": "4b2af713-a84e-46cc-ab24-5377bb2cb3a9",
   "metadata": {},
   "outputs": [],
   "source": []
  },
  {
   "cell_type": "code",
   "execution_count": null,
   "id": "739e8c61-a887-4d14-96e8-16eac7ba96ce",
   "metadata": {},
   "outputs": [],
   "source": []
  },
  {
   "cell_type": "code",
   "execution_count": null,
   "id": "02c9e030-c149-42dc-b209-06f2fb56c56e",
   "metadata": {},
   "outputs": [],
   "source": []
  },
  {
   "cell_type": "code",
   "execution_count": null,
   "id": "d06db0ac-c2a2-499b-aed0-f3c5a96f5229",
   "metadata": {},
   "outputs": [],
   "source": []
  },
  {
   "cell_type": "code",
   "execution_count": null,
   "id": "14b5b5d8-893a-4b45-b2b4-0be5a2592a3f",
   "metadata": {},
   "outputs": [],
   "source": []
  },
  {
   "cell_type": "code",
   "execution_count": null,
   "id": "19f8fb80-af50-4358-b775-1e18df7b90fa",
   "metadata": {},
   "outputs": [],
   "source": []
  },
  {
   "cell_type": "code",
   "execution_count": null,
   "id": "89e51ffc-21c8-4161-beb7-21db40bf296a",
   "metadata": {},
   "outputs": [],
   "source": []
  },
  {
   "cell_type": "code",
   "execution_count": null,
   "id": "1c58fac9-d995-4739-b9b7-dda3af4b3c3e",
   "metadata": {},
   "outputs": [],
   "source": []
  },
  {
   "cell_type": "code",
   "execution_count": null,
   "id": "128e0579-c5de-4629-badd-567f915dd591",
   "metadata": {},
   "outputs": [],
   "source": []
  }
 ],
 "metadata": {
  "kernelspec": {
   "display_name": "Python 3 (ipykernel)",
   "language": "python",
   "name": "python3"
  },
  "language_info": {
   "codemirror_mode": {
    "name": "ipython",
    "version": 3
   },
   "file_extension": ".py",
   "mimetype": "text/x-python",
   "name": "python",
   "nbconvert_exporter": "python",
   "pygments_lexer": "ipython3",
   "version": "3.12.4"
  }
 },
 "nbformat": 4,
 "nbformat_minor": 5
}
